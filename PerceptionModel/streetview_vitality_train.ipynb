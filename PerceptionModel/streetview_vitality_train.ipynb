{
 "cells": [
  {
   "cell_type": "code",
   "execution_count": 1,
   "metadata": {},
   "outputs": [
    {
     "name": "stderr",
     "output_type": "stream",
     "text": [
      "Using TensorFlow backend.\n"
     ]
    }
   ],
   "source": [
    "#packages for Model\n",
    "from keras.models import Sequential\n",
    "from keras.layers.normalization import BatchNormalization\n",
    "from keras.layers.convolutional import Conv2D,AveragePooling2D, MaxPooling2D, ZeroPadding2D\n",
    "from keras.layers.core import Activation,Flatten,Dropout,Dense\n",
    "from keras import backend as K"
   ]
  },
  {
   "cell_type": "code",
   "execution_count": 2,
   "metadata": {},
   "outputs": [],
   "source": [
    "#packages for training\n",
    "import matplotlib\n",
    "matplotlib.use(\"Agg\")\n",
    "from keras.preprocessing.image import ImageDataGenerator #数据扩张\n",
    "from keras import optimizers #优化器\n",
    "#from pyimagesearch.smallervggnet import SmallerVGGNet\n",
    "import matplotlib.pyplot as plt\n",
    "import numpy as np\n",
    "import random\n",
    "import cv2\n",
    "import os\n",
    "import shutil"
   ]
  },
  {
   "cell_type": "code",
   "execution_count": 4,
   "metadata": {},
   "outputs": [],
   "source": [
    "model=Sequential()\n",
    "\n",
    "model.add(Conv2D(32,(3,3),activation='relu',\n",
    "                 input_shape=(150,150,3)))\n",
    "model.add(BatchNormalization(axis=-1))\n",
    "model.add(MaxPooling2D(2,2))\n",
    "\n",
    "model.add(Conv2D(64,(3,3),activation='relu'))\n",
    "model.add(BatchNormalization(axis=-1))\n",
    "model.add(MaxPooling2D(2,2))\n",
    "\n",
    "model.add(Conv2D(128,(3,3),activation='relu'))\n",
    "model.add(BatchNormalization(axis=-1))\n",
    "model.add(MaxPooling2D(2,2))\n",
    "\n",
    "model.add(Flatten())\n",
    "model.add(Dropout(0.25))\n",
    "model.add(Dense(32,activation='relu'))\n",
    "model.add(Dense(1,activation='sigmoid'))"
   ]
  },
  {
   "cell_type": "code",
   "execution_count": 5,
   "metadata": {},
   "outputs": [],
   "source": [
    "from keras.optimizers import Adam\n",
    "EPOCHS=30 #网络迭代次数\n",
    "INIT_LR=1e-4 #Adam的初始学习率\n",
    "optimizer=Adam(lr=INIT_LR,beta_1=0.9, beta_2=0.999, epsilon=1e-08,decay=INIT_LR/EPOCHS)\n",
    "model.compile(loss='binary_crossentropy',metrics=['acc'],optimizer=optimizer)"
   ]
  },
  {
   "cell_type": "code",
   "execution_count": 6,
   "metadata": {},
   "outputs": [
    {
     "name": "stdout",
     "output_type": "stream",
     "text": [
      "Found 2247 images belonging to 2 classes.\n",
      "Found 615 images belonging to 2 classes.\n"
     ]
    }
   ],
   "source": [
    "train_dir='newdataset/train2'\n",
    "val_dir='newdataset/validation2'\n",
    "train_datagen=ImageDataGenerator(rescale=1./255,rotation_range=10,width_shift_range=0.1,\n",
    "                       height_shift_range=0.1,shear_range=0.1,zoom_range=0.1,\n",
    "                       horizontal_flip=True,fill_mode=\"nearest\")#由于是街景，不能变动太多\n",
    "test_datagen=ImageDataGenerator(rescale=1./255)\n",
    "train_generator=train_datagen.flow_from_directory(train_dir,target_size=(150,150),batch_size=64,class_mode='binary')\n",
    "validation_generator=test_datagen.flow_from_directory(val_dir,target_size=(150,150),batch_size=64,class_mode='binary')"
   ]
  },
  {
   "cell_type": "code",
   "execution_count": 7,
   "metadata": {},
   "outputs": [
    {
     "name": "stdout",
     "output_type": "stream",
     "text": [
      "Epoch 1/50\n",
      "14/20 [====================>.........] - ETA: 48s - loss: 0.7066 - acc: 0.6591"
     ]
    },
    {
     "name": "stderr",
     "output_type": "stream",
     "text": [
      "C:\\ProgramData\\Anaconda3\\lib\\site-packages\\PIL\\TiffImagePlugin.py:780: UserWarning: Corrupt EXIF data.  Expecting to read 4 bytes but only got 0. \n",
      "  warnings.warn(str(msg))\n"
     ]
    },
    {
     "name": "stdout",
     "output_type": "stream",
     "text": [
      "20/20 [==============================] - 341s 17s/step - loss: 0.6613 - acc: 0.6780 - val_loss: 0.6158 - val_acc: 0.6488\n",
      "Epoch 2/50\n",
      "20/20 [==============================] - 362s 18s/step - loss: 0.5607 - acc: 0.7094 - val_loss: 0.5888 - val_acc: 0.6699\n",
      "Epoch 3/50\n",
      "20/20 [==============================] - 332s 17s/step - loss: 0.5250 - acc: 0.7438 - val_loss: 0.6155 - val_acc: 0.6764\n",
      "Epoch 4/50\n",
      "20/20 [==============================] - 324s 16s/step - loss: 0.5409 - acc: 0.7356 - val_loss: 0.6731 - val_acc: 0.6537\n",
      "Epoch 5/50\n",
      "20/20 [==============================] - 653s 33s/step - loss: 0.5134 - acc: 0.7405 - val_loss: 0.6067 - val_acc: 0.6748\n",
      "Epoch 6/50\n",
      "20/20 [==============================] - 328s 16s/step - loss: 0.4814 - acc: 0.7695 - val_loss: 0.6312 - val_acc: 0.6862\n",
      "Epoch 7/50\n",
      "20/20 [==============================] - 321s 16s/step - loss: 0.4890 - acc: 0.7653 - val_loss: 0.5325 - val_acc: 0.7382\n",
      "Epoch 8/50\n",
      "20/20 [==============================] - 321s 16s/step - loss: 0.4793 - acc: 0.7626 - val_loss: 0.7087 - val_acc: 0.6602\n",
      "Epoch 9/50\n",
      "20/20 [==============================] - 328s 16s/step - loss: 0.4935 - acc: 0.7492 - val_loss: 0.5311 - val_acc: 0.7220\n",
      "Epoch 10/50\n",
      "20/20 [==============================] - 328s 16s/step - loss: 0.4841 - acc: 0.7734 - val_loss: 0.5155 - val_acc: 0.7447\n",
      "Epoch 11/50\n",
      "20/20 [==============================] - 321s 16s/step - loss: 0.4521 - acc: 0.7765 - val_loss: 0.5569 - val_acc: 0.7301\n",
      "Epoch 12/50\n",
      "20/20 [==============================] - 11060s 553s/step - loss: 0.4569 - acc: 0.7765 - val_loss: 0.6253 - val_acc: 0.6976\n",
      "Epoch 13/50\n",
      "20/20 [==============================] - 327s 16s/step - loss: 0.4590 - acc: 0.7750 - val_loss: 0.5763 - val_acc: 0.7317\n",
      "Epoch 14/50\n",
      "20/20 [==============================] - 319s 16s/step - loss: 0.4845 - acc: 0.7753 - val_loss: 0.5365 - val_acc: 0.7528\n",
      "Epoch 15/50\n",
      "20/20 [==============================] - 326s 16s/step - loss: 0.4433 - acc: 0.7945 - val_loss: 0.7421 - val_acc: 0.6472\n",
      "Epoch 16/50\n",
      "20/20 [==============================] - 326s 16s/step - loss: 0.4694 - acc: 0.7778 - val_loss: 0.7297 - val_acc: 0.6683\n",
      "Epoch 17/50\n",
      "20/20 [==============================] - 342s 17s/step - loss: 0.4405 - acc: 0.7822 - val_loss: 0.5575 - val_acc: 0.7415\n",
      "Epoch 18/50\n",
      "20/20 [==============================] - 331s 17s/step - loss: 0.4527 - acc: 0.7812 - val_loss: 0.6027 - val_acc: 0.7073\n",
      "Epoch 19/50\n",
      "20/20 [==============================] - 326s 16s/step - loss: 0.4367 - acc: 0.7820 - val_loss: 0.5174 - val_acc: 0.7545\n",
      "Epoch 20/50\n",
      "20/20 [==============================] - 343s 17s/step - loss: 0.4219 - acc: 0.8102 - val_loss: 0.6545 - val_acc: 0.7122\n",
      "Epoch 21/50\n",
      "20/20 [==============================] - 332s 17s/step - loss: 0.3911 - acc: 0.8293 - val_loss: 0.5462 - val_acc: 0.7577\n",
      "Epoch 22/50\n",
      "20/20 [==============================] - 338s 17s/step - loss: 0.4290 - acc: 0.7977 - val_loss: 0.5866 - val_acc: 0.7301\n",
      "Epoch 23/50\n",
      "20/20 [==============================] - 340s 17s/step - loss: 0.4200 - acc: 0.8121 - val_loss: 0.4931 - val_acc: 0.7691\n",
      "Epoch 24/50\n",
      "20/20 [==============================] - 366s 18s/step - loss: 0.3904 - acc: 0.8320 - val_loss: 0.5634 - val_acc: 0.7431\n",
      "Epoch 25/50\n",
      "20/20 [==============================] - 397s 20s/step - loss: 0.4000 - acc: 0.8148 - val_loss: 0.6265 - val_acc: 0.7220\n",
      "Epoch 26/50\n",
      "20/20 [==============================] - 388s 19s/step - loss: 0.4232 - acc: 0.7935 - val_loss: 0.8831 - val_acc: 0.6634\n",
      "Epoch 27/50\n",
      "20/20 [==============================] - 398s 20s/step - loss: 0.4246 - acc: 0.8031 - val_loss: 0.5289 - val_acc: 0.7366\n",
      "Epoch 28/50\n",
      "20/20 [==============================] - 398s 20s/step - loss: 0.3845 - acc: 0.8234 - val_loss: 0.7023 - val_acc: 0.7024\n",
      "Epoch 29/50\n",
      "20/20 [==============================] - 384s 19s/step - loss: 0.4115 - acc: 0.7994 - val_loss: 0.5899 - val_acc: 0.7138\n",
      "Epoch 30/50\n",
      "20/20 [==============================] - 389s 19s/step - loss: 0.3805 - acc: 0.8207 - val_loss: 0.5587 - val_acc: 0.7496\n",
      "Epoch 31/50\n",
      "20/20 [==============================] - 359s 18s/step - loss: 0.4007 - acc: 0.8123 - val_loss: 0.4969 - val_acc: 0.7496\n",
      "Epoch 32/50\n",
      "20/20 [==============================] - 364s 18s/step - loss: 0.4000 - acc: 0.8070 - val_loss: 0.4735 - val_acc: 0.7740\n",
      "Epoch 33/50\n",
      "20/20 [==============================] - 367s 18s/step - loss: 0.4043 - acc: 0.8102 - val_loss: 0.5322 - val_acc: 0.7675\n",
      "Epoch 34/50\n",
      "20/20 [==============================] - 350s 17s/step - loss: 0.3895 - acc: 0.8172 - val_loss: 0.4617 - val_acc: 0.7821\n",
      "Epoch 35/50\n",
      "20/20 [==============================] - 387s 19s/step - loss: 0.3902 - acc: 0.8233 - val_loss: 0.5112 - val_acc: 0.7707\n",
      "Epoch 36/50\n",
      "20/20 [==============================] - 406s 20s/step - loss: 0.3848 - acc: 0.8172 - val_loss: 0.5544 - val_acc: 0.7447\n",
      "Epoch 37/50\n",
      "20/20 [==============================] - 380s 19s/step - loss: 0.3866 - acc: 0.8221 - val_loss: 0.6425 - val_acc: 0.7171\n",
      "Epoch 38/50\n",
      "20/20 [==============================] - 408s 20s/step - loss: 0.3856 - acc: 0.8234 - val_loss: 0.4858 - val_acc: 0.7902\n",
      "Epoch 39/50\n",
      "20/20 [==============================] - 394s 20s/step - loss: 0.3808 - acc: 0.8342 - val_loss: 0.6496 - val_acc: 0.7138\n",
      "Epoch 40/50\n",
      "20/20 [==============================] - 411s 21s/step - loss: 0.3787 - acc: 0.8305 - val_loss: 0.5774 - val_acc: 0.7463\n",
      "Epoch 41/50\n",
      "20/20 [==============================] - 384s 19s/step - loss: 0.3467 - acc: 0.8500 - val_loss: 0.5065 - val_acc: 0.7756\n",
      "Epoch 42/50\n",
      "20/20 [==============================] - 340s 17s/step - loss: 0.3520 - acc: 0.8395 - val_loss: 0.5529 - val_acc: 0.7626\n",
      "Epoch 43/50\n",
      "20/20 [==============================] - 337s 17s/step - loss: 0.3572 - acc: 0.8375 - val_loss: 0.4567 - val_acc: 0.8049\n",
      "Epoch 44/50\n",
      "20/20 [==============================] - 335s 17s/step - loss: 0.4058 - acc: 0.8148 - val_loss: 0.5034 - val_acc: 0.7626\n",
      "Epoch 45/50\n",
      "20/20 [==============================] - 326s 16s/step - loss: 0.3485 - acc: 0.8450 - val_loss: 0.4973 - val_acc: 0.7805\n",
      "Epoch 46/50\n",
      "20/20 [==============================] - 323s 16s/step - loss: 0.3277 - acc: 0.8499 - val_loss: 0.4436 - val_acc: 0.8081\n",
      "Epoch 47/50\n",
      "20/20 [==============================] - 325s 16s/step - loss: 0.3606 - acc: 0.8258 - val_loss: 0.4720 - val_acc: 0.7854\n",
      "Epoch 48/50\n",
      "20/20 [==============================] - 317s 16s/step - loss: 0.3880 - acc: 0.8129 - val_loss: 0.5517 - val_acc: 0.7528\n",
      "Epoch 49/50\n",
      "20/20 [==============================] - 325s 16s/step - loss: 0.3490 - acc: 0.8438 - val_loss: 0.4279 - val_acc: 0.8033\n",
      "Epoch 50/50\n",
      "20/20 [==============================] - 317s 16s/step - loss: 0.3584 - acc: 0.8413 - val_loss: 0.4652 - val_acc: 0.8065\n"
     ]
    }
   ],
   "source": [
    "from PIL import Image\n",
    "history=model.fit_generator(train_generator,steps_per_epoch=20,epochs=50,validation_data=validation_generator,validation_steps=50)"
   ]
  },
  {
   "cell_type": "code",
   "execution_count": 16,
   "metadata": {},
   "outputs": [
    {
     "data": {
      "image/png": "[encoded data removed]",
      "text/plain": [
       "<Figure size 432x288 with 1 Axes>"
      ]
     },
     "metadata": {
      "needs_background": "light"
     },
     "output_type": "display_data"
    },
    {
     "data": {
      "image/png": "[encoded data removed]",
      "text/plain": [
       "<Figure size 432x288 with 1 Axes>"
      ]
     },
     "metadata": {
      "needs_background": "light"
     },
     "output_type": "display_data"
    },
    {
     "data": {
      "text/plain": [
       "<Figure size 432x288 with 0 Axes>"
      ]
     },
     "metadata": {},
     "output_type": "display_data"
    },
    {
     "data": {
      "text/plain": [
       "<Figure size 432x288 with 0 Axes>"
      ]
     },
     "metadata": {},
     "output_type": "display_data"
    }
   ],
   "source": [
    "%matplotlib inline\n",
    "import matplotlib.pyplot as plt\n",
    "\n",
    "acc=history.history['acc']\n",
    "val_acc=history.history['val_acc']\n",
    "loss=history.history['loss']\n",
    "val_loss=history.history['val_loss']\n",
    "\n",
    "epochs=range(1,len(acc)+1)\n",
    "\n",
    "plt.plot(epochs,acc,'bo',label='Training acc')\n",
    "plt.plot(epochs,val_acc,'b',label='Validation acc')\n",
    "plt.title('Training and validation accuracy')\n",
    "plt.yticks([0.5,0.6,0.7,0.8,0.9,1])\n",
    "plt.legend()\n",
    "plt.figure()\n",
    "\n",
    "plt.plot(epochs,loss,'bo',label='Training loss')\n",
    "plt.plot(epochs,val_loss,'b',label='Validation loss')\n",
    "plt.title('Training and validation loss')\n",
    "plt.yticks([0.5,0.6,0.7,0.8,0.9,1])\n",
    "plt.legend()\n",
    "plt.figure()\n",
    "\n",
    "plt.show()\n",
    "plt.savefig('spacesyntax1.jpg')"
   ]
  },
  {
   "cell_type": "code",
   "execution_count": 9,
   "metadata": {},
   "outputs": [],
   "source": [
    "model.save('spacesyntax1.ckpt')"
   ]
  },
  {
   "cell_type": "code",
   "execution_count": 1,
   "metadata": {},
   "outputs": [
    {
     "name": "stderr",
     "output_type": "stream",
     "text": [
      "Using TensorFlow backend.\n"
     ]
    },
    {
     "ename": "NameError",
     "evalue": "name 'model' is not defined",
     "output_type": "error",
     "traceback": [
      "\u001b[1;31m---------------------------------------------------------------------------\u001b[0m",
      "\u001b[1;31mNameError\u001b[0m                                 Traceback (most recent call last)",
      "\u001b[1;32m<ipython-input-1-38f9b2959d4d>\u001b[0m in \u001b[0;36m<module>\u001b[1;34m\u001b[0m\n\u001b[0;32m      1\u001b[0m \u001b[1;32mfrom\u001b[0m \u001b[0mkeras\u001b[0m\u001b[1;33m.\u001b[0m\u001b[0mutils\u001b[0m\u001b[1;33m.\u001b[0m\u001b[0mvis_utils\u001b[0m \u001b[1;32mimport\u001b[0m \u001b[0mplot_model\u001b[0m\u001b[1;33m\u001b[0m\u001b[1;33m\u001b[0m\u001b[0m\n\u001b[1;32m----> 2\u001b[1;33m \u001b[0mplot_model\u001b[0m\u001b[1;33m(\u001b[0m\u001b[0mmodel\u001b[0m\u001b[1;33m,\u001b[0m \u001b[0mto_file\u001b[0m\u001b[1;33m=\u001b[0m\u001b[1;34m'ss1.png'\u001b[0m\u001b[1;33m,\u001b[0m \u001b[0mshow_shapes\u001b[0m\u001b[1;33m=\u001b[0m\u001b[1;32mTrue\u001b[0m\u001b[1;33m)\u001b[0m\u001b[1;33m\u001b[0m\u001b[1;33m\u001b[0m\u001b[0m\n\u001b[0m",
      "\u001b[1;31mNameError\u001b[0m: name 'model' is not defined"
     ]
    }
   ],
   "source": [
    "from keras.utils.vis_utils import plot_model\n",
    "plot_model(model, to_file='ss1.png', show_shapes=True)"
   ]
  },
  {
   "cell_type": "code",
   "execution_count": null,
   "metadata": {},
   "outputs": [],
   "source": []
  }
 ],
 "metadata": {
  "kernelspec": {
   "display_name": "Python 3",
   "language": "python",
   "name": "python3"
  },
  "language_info": {
   "codemirror_mode": {
    "name": "ipython",
    "version": 3
   },
   "file_extension": ".py",
   "mimetype": "text/x-python",
   "name": "python",
   "nbconvert_exporter": "python",
   "pygments_lexer": "ipython3",
   "version": "3.6.7"
  }
 },
 "nbformat": 4,
 "nbformat_minor": 2
}
